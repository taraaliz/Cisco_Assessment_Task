{
 "cells": [
  {
   "cell_type": "markdown",
   "id": "edf516d2",
   "metadata": {},
   "source": [
    "### Dataset pre-processing"
   ]
  },
  {
   "cell_type": "code",
   "execution_count": 84,
   "id": "4fb219ec",
   "metadata": {
    "scrolled": false
   },
   "outputs": [
    {
     "data": {
      "text/html": [
       "<div>\n",
       "<style scoped>\n",
       "    .dataframe tbody tr th:only-of-type {\n",
       "        vertical-align: middle;\n",
       "    }\n",
       "\n",
       "    .dataframe tbody tr th {\n",
       "        vertical-align: top;\n",
       "    }\n",
       "\n",
       "    .dataframe thead th {\n",
       "        text-align: right;\n",
       "    }\n",
       "</style>\n",
       "<table border=\"1\" class=\"dataframe\">\n",
       "  <thead>\n",
       "    <tr style=\"text-align: right;\">\n",
       "      <th></th>\n",
       "      <th>Name</th>\n",
       "      <th>Platform</th>\n",
       "      <th>Year_of_Release</th>\n",
       "      <th>Genre</th>\n",
       "      <th>Publisher</th>\n",
       "      <th>NA_Sales</th>\n",
       "      <th>EU_Sales</th>\n",
       "      <th>JP_Sales</th>\n",
       "      <th>Other_Sales</th>\n",
       "      <th>Global_Sales</th>\n",
       "      <th>Critic_Score</th>\n",
       "      <th>Critic_Count</th>\n",
       "      <th>User_Score</th>\n",
       "      <th>User_Count</th>\n",
       "      <th>Developer</th>\n",
       "      <th>Rating</th>\n",
       "    </tr>\n",
       "  </thead>\n",
       "  <tbody>\n",
       "    <tr>\n",
       "      <th>0</th>\n",
       "      <td>Wii Sports</td>\n",
       "      <td>Wii</td>\n",
       "      <td>2006.0</td>\n",
       "      <td>Sports</td>\n",
       "      <td>Nintendo</td>\n",
       "      <td>41.36</td>\n",
       "      <td>28.96</td>\n",
       "      <td>3.77</td>\n",
       "      <td>8.45</td>\n",
       "      <td>82.53</td>\n",
       "      <td>76.0</td>\n",
       "      <td>51.0</td>\n",
       "      <td>8</td>\n",
       "      <td>322.0</td>\n",
       "      <td>Nintendo</td>\n",
       "      <td>E</td>\n",
       "    </tr>\n",
       "    <tr>\n",
       "      <th>1</th>\n",
       "      <td>Super Mario Bros.</td>\n",
       "      <td>NES</td>\n",
       "      <td>1985.0</td>\n",
       "      <td>Platform</td>\n",
       "      <td>Nintendo</td>\n",
       "      <td>29.08</td>\n",
       "      <td>3.58</td>\n",
       "      <td>6.81</td>\n",
       "      <td>0.77</td>\n",
       "      <td>40.24</td>\n",
       "      <td>NaN</td>\n",
       "      <td>NaN</td>\n",
       "      <td>NaN</td>\n",
       "      <td>NaN</td>\n",
       "      <td>NaN</td>\n",
       "      <td>NaN</td>\n",
       "    </tr>\n",
       "    <tr>\n",
       "      <th>2</th>\n",
       "      <td>Mario Kart Wii</td>\n",
       "      <td>Wii</td>\n",
       "      <td>2008.0</td>\n",
       "      <td>Racing</td>\n",
       "      <td>Nintendo</td>\n",
       "      <td>15.68</td>\n",
       "      <td>12.76</td>\n",
       "      <td>3.79</td>\n",
       "      <td>3.29</td>\n",
       "      <td>35.52</td>\n",
       "      <td>82.0</td>\n",
       "      <td>73.0</td>\n",
       "      <td>8.3</td>\n",
       "      <td>709.0</td>\n",
       "      <td>Nintendo</td>\n",
       "      <td>E</td>\n",
       "    </tr>\n",
       "    <tr>\n",
       "      <th>3</th>\n",
       "      <td>Wii Sports Resort</td>\n",
       "      <td>Wii</td>\n",
       "      <td>2009.0</td>\n",
       "      <td>Sports</td>\n",
       "      <td>Nintendo</td>\n",
       "      <td>15.61</td>\n",
       "      <td>10.93</td>\n",
       "      <td>3.28</td>\n",
       "      <td>2.95</td>\n",
       "      <td>32.77</td>\n",
       "      <td>80.0</td>\n",
       "      <td>73.0</td>\n",
       "      <td>8</td>\n",
       "      <td>192.0</td>\n",
       "      <td>Nintendo</td>\n",
       "      <td>E</td>\n",
       "    </tr>\n",
       "    <tr>\n",
       "      <th>4</th>\n",
       "      <td>Pokemon Red/Pokemon Blue</td>\n",
       "      <td>GB</td>\n",
       "      <td>1996.0</td>\n",
       "      <td>Role-Playing</td>\n",
       "      <td>Nintendo</td>\n",
       "      <td>11.27</td>\n",
       "      <td>8.89</td>\n",
       "      <td>10.22</td>\n",
       "      <td>1.00</td>\n",
       "      <td>31.37</td>\n",
       "      <td>NaN</td>\n",
       "      <td>NaN</td>\n",
       "      <td>NaN</td>\n",
       "      <td>NaN</td>\n",
       "      <td>NaN</td>\n",
       "      <td>NaN</td>\n",
       "    </tr>\n",
       "  </tbody>\n",
       "</table>\n",
       "</div>"
      ],
      "text/plain": [
       "                       Name Platform  Year_of_Release         Genre Publisher  \\\n",
       "0                Wii Sports      Wii           2006.0        Sports  Nintendo   \n",
       "1         Super Mario Bros.      NES           1985.0      Platform  Nintendo   \n",
       "2            Mario Kart Wii      Wii           2008.0        Racing  Nintendo   \n",
       "3         Wii Sports Resort      Wii           2009.0        Sports  Nintendo   \n",
       "4  Pokemon Red/Pokemon Blue       GB           1996.0  Role-Playing  Nintendo   \n",
       "\n",
       "   NA_Sales  EU_Sales  JP_Sales  Other_Sales  Global_Sales  Critic_Score  \\\n",
       "0     41.36     28.96      3.77         8.45         82.53          76.0   \n",
       "1     29.08      3.58      6.81         0.77         40.24           NaN   \n",
       "2     15.68     12.76      3.79         3.29         35.52          82.0   \n",
       "3     15.61     10.93      3.28         2.95         32.77          80.0   \n",
       "4     11.27      8.89     10.22         1.00         31.37           NaN   \n",
       "\n",
       "   Critic_Count User_Score  User_Count Developer Rating  \n",
       "0          51.0          8       322.0  Nintendo      E  \n",
       "1           NaN        NaN         NaN       NaN    NaN  \n",
       "2          73.0        8.3       709.0  Nintendo      E  \n",
       "3          73.0          8       192.0  Nintendo      E  \n",
       "4           NaN        NaN         NaN       NaN    NaN  "
      ]
     },
     "execution_count": 84,
     "metadata": {},
     "output_type": "execute_result"
    }
   ],
   "source": [
    "import pandas as pd\n",
    "import numpy as np\n",
    "import seaborn as sns\n",
    "import matplotlib.pyplot as plt\n",
    "sns.set()\n",
    "\n",
    "dataset = pd.read_csv('Video_Games_Sales_as_at_22_Dec_2016.csv')\n",
    "dataset.head()"
   ]
  },
  {
   "cell_type": "code",
   "execution_count": 5,
   "id": "29dc08fd",
   "metadata": {
    "scrolled": true
   },
   "outputs": [
    {
     "name": "stdout",
     "output_type": "stream",
     "text": [
      "<class 'pandas.core.frame.DataFrame'>\n",
      "Int64Index: 6825 entries, 0 to 16706\n",
      "Data columns (total 16 columns):\n",
      " #   Column           Non-Null Count  Dtype  \n",
      "---  ------           --------------  -----  \n",
      " 0   Name             6825 non-null   object \n",
      " 1   Platform         6825 non-null   object \n",
      " 2   Year_of_Release  6825 non-null   float64\n",
      " 3   Genre            6825 non-null   object \n",
      " 4   Publisher        6825 non-null   object \n",
      " 5   NA_Sales         6825 non-null   float64\n",
      " 6   EU_Sales         6825 non-null   float64\n",
      " 7   JP_Sales         6825 non-null   float64\n",
      " 8   Other_Sales      6825 non-null   float64\n",
      " 9   Global_Sales     6825 non-null   float64\n",
      " 10  Critic_Score     6825 non-null   float64\n",
      " 11  Critic_Count     6825 non-null   float64\n",
      " 12  User_Score       6825 non-null   object \n",
      " 13  User_Count       6825 non-null   float64\n",
      " 14  Developer        6825 non-null   object \n",
      " 15  Rating           6825 non-null   object \n",
      "dtypes: float64(9), object(7)\n",
      "memory usage: 906.4+ KB\n"
     ]
    }
   ],
   "source": [
    "dataset_c = dataset.dropna()\n",
    "dataset_c.info()"
   ]
  },
  {
   "cell_type": "markdown",
   "id": "53e8a45c",
   "metadata": {},
   "source": [
    "# 4. Based on global unit sales, who are the top 5 game publishers?"
   ]
  },
  {
   "cell_type": "code",
   "execution_count": 21,
   "id": "4cb238f8",
   "metadata": {},
   "outputs": [
    {
     "data": {
      "text/html": [
       "<div>\n",
       "<style scoped>\n",
       "    .dataframe tbody tr th:only-of-type {\n",
       "        vertical-align: middle;\n",
       "    }\n",
       "\n",
       "    .dataframe tbody tr th {\n",
       "        vertical-align: top;\n",
       "    }\n",
       "\n",
       "    .dataframe thead th {\n",
       "        text-align: right;\n",
       "    }\n",
       "</style>\n",
       "<table border=\"1\" class=\"dataframe\">\n",
       "  <thead>\n",
       "    <tr style=\"text-align: right;\">\n",
       "      <th></th>\n",
       "      <th>Total_Global_Sales</th>\n",
       "      <th>Publisher</th>\n",
       "    </tr>\n",
       "  </thead>\n",
       "  <tbody>\n",
       "    <tr>\n",
       "      <th>77</th>\n",
       "      <td>868.55</td>\n",
       "      <td>Electronic Arts</td>\n",
       "    </tr>\n",
       "    <tr>\n",
       "      <th>0</th>\n",
       "      <td>849.49</td>\n",
       "      <td>Nintendo</td>\n",
       "    </tr>\n",
       "    <tr>\n",
       "      <th>29</th>\n",
       "      <td>535.74</td>\n",
       "      <td>Activision</td>\n",
       "    </tr>\n",
       "    <tr>\n",
       "      <th>28</th>\n",
       "      <td>388.10</td>\n",
       "      <td>Sony Computer Entertainment</td>\n",
       "    </tr>\n",
       "    <tr>\n",
       "      <th>16</th>\n",
       "      <td>350.17</td>\n",
       "      <td>Take-Two Interactive</td>\n",
       "    </tr>\n",
       "  </tbody>\n",
       "</table>\n",
       "</div>"
      ],
      "text/plain": [
       "    Total_Global_Sales                    Publisher\n",
       "77              868.55              Electronic Arts\n",
       "0               849.49                     Nintendo\n",
       "29              535.74                   Activision\n",
       "28              388.10  Sony Computer Entertainment\n",
       "16              350.17         Take-Two Interactive"
      ]
     },
     "execution_count": 21,
     "metadata": {},
     "output_type": "execute_result"
    }
   ],
   "source": [
    "# sort by Global_Sales and show top 5 Publishers\n",
    "\n",
    "# gives total global sales by publisher - otherwise gives sum of whole column\n",
    "total_sales = dataset_c['Global_Sales'].groupby(dataset_c['Publisher']).transform('sum')\n",
    "\n",
    "# create new dataframe of only publisher and total global sales\n",
    "sales_vs_publisher = pd.DataFrame({\n",
    "    'Total_Global_Sales': total_sales,\n",
    "    'Publisher': dataset_c['Publisher']\n",
    "})\n",
    "\n",
    "# drop duplicates created by the summing - it creates one row for each row we had in initial dataset\n",
    "sales_vs_publisher = sales_vs_publisher.drop_duplicates()\n",
    "\n",
    "# sort in descending order by total global sales\n",
    "sales_vs_publisher = sales_vs_publisher.sort_values(by=['Total_Global_Sales'], ascending=False)\n",
    "\n",
    "# top 5 rows\n",
    "sales_vs_publisher.head()"
   ]
  },
  {
   "cell_type": "markdown",
   "id": "be482a1d",
   "metadata": {},
   "source": [
    "Based on global unit sales, the top 5 game publishers are Electronic Arts, Nintendo, Activision, Sony Computer Entertainment, and Take-Two Interactive."
   ]
  },
  {
   "cell_type": "code",
   "execution_count": 18,
   "id": "fd1f713b",
   "metadata": {},
   "outputs": [
    {
     "data": {
      "text/plain": [
       "Publisher\n",
       "10TACLE Studios          0.02\n",
       "1C Company               0.06\n",
       "2D Boy                   0.04\n",
       "3DO                      2.48\n",
       "505 Games               31.71\n",
       "                        ...  \n",
       "Zoo Games                1.34\n",
       "Zushi Games              0.21\n",
       "bitComposer Games        0.06\n",
       "id Software              0.03\n",
       "inXile Entertainment     0.10\n",
       "Name: Global_Sales, Length: 262, dtype: float64"
      ]
     },
     "execution_count": 18,
     "metadata": {},
     "output_type": "execute_result"
    }
   ],
   "source": [
    "dataset_c['Global_Sales'].groupby(dataset_c['Publisher']).sum()"
   ]
  },
  {
   "cell_type": "markdown",
   "id": "91ef6336",
   "metadata": {},
   "source": [
    "# 5.\tBased on global unit sales, who were the top 5 game publishers in 1995?"
   ]
  },
  {
   "cell_type": "code",
   "execution_count": 54,
   "id": "49f3c6b2",
   "metadata": {},
   "outputs": [
    {
     "data": {
      "text/html": [
       "<div>\n",
       "<style scoped>\n",
       "    .dataframe tbody tr th:only-of-type {\n",
       "        vertical-align: middle;\n",
       "    }\n",
       "\n",
       "    .dataframe tbody tr th {\n",
       "        vertical-align: top;\n",
       "    }\n",
       "\n",
       "    .dataframe thead th {\n",
       "        text-align: right;\n",
       "    }\n",
       "</style>\n",
       "<table border=\"1\" class=\"dataframe\">\n",
       "  <thead>\n",
       "    <tr style=\"text-align: right;\">\n",
       "      <th></th>\n",
       "      <th>Total_Global_Sales</th>\n",
       "      <th>Publisher</th>\n",
       "    </tr>\n",
       "  </thead>\n",
       "  <tbody>\n",
       "    <tr>\n",
       "      <th>77</th>\n",
       "      <td>868.55</td>\n",
       "      <td>Electronic Arts</td>\n",
       "    </tr>\n",
       "    <tr>\n",
       "      <th>0</th>\n",
       "      <td>849.49</td>\n",
       "      <td>Nintendo</td>\n",
       "    </tr>\n",
       "    <tr>\n",
       "      <th>29</th>\n",
       "      <td>535.74</td>\n",
       "      <td>Activision</td>\n",
       "    </tr>\n",
       "    <tr>\n",
       "      <th>28</th>\n",
       "      <td>388.10</td>\n",
       "      <td>Sony Computer Entertainment</td>\n",
       "    </tr>\n",
       "    <tr>\n",
       "      <th>16</th>\n",
       "      <td>350.17</td>\n",
       "      <td>Take-Two Interactive</td>\n",
       "    </tr>\n",
       "  </tbody>\n",
       "</table>\n",
       "</div>"
      ],
      "text/plain": [
       "    Total_Global_Sales                    Publisher\n",
       "77              868.55              Electronic Arts\n",
       "0               849.49                     Nintendo\n",
       "29              535.74                   Activision\n",
       "28              388.10  Sony Computer Entertainment\n",
       "16              350.17         Take-Two Interactive"
      ]
     },
     "execution_count": 54,
     "metadata": {},
     "output_type": "execute_result"
    }
   ],
   "source": [
    "# select total global sales, publisher from dataset where Year_of_Release = 1995\n",
    "\n",
    "# can't use the cleaned dataset here because there are no instances of 1995 games without any null values (some not released in other regions etc)\n",
    "# selects only entries with year 1995\n",
    "dataset_95 = dataset[dataset['Year_of_Release'] == 1995]\n",
    "\n",
    "total_sales_95 = dataset_95['Global_Sales'].groupby(dataset['Publisher']).transform('sum')\n",
    "sales_vs_publisher_95 = pd.DataFrame({\n",
    "    'Total_Global_Sales': total_sales_95,\n",
    "    'Publisher': dataset_95['Publisher']\n",
    "})\n",
    "\n",
    "sales_vs_publisher_95 = sales_vs_publisher_95.drop_duplicates()\n",
    "\n",
    "sales_vs_publisher_95 = sales_vs_publisher_95.sort_values(by='Total_Global_Sales', ascending=False)\n",
    "sales_vs_publisher.head()"
   ]
  },
  {
   "cell_type": "markdown",
   "id": "80c92c5a",
   "metadata": {},
   "source": [
    "# 6.\tShow global annual unit sales by year for “Electronic Arts”, “Nintendo” and “Sony Computer Entertainment” between 1990 and 2015"
   ]
  },
  {
   "cell_type": "code",
   "execution_count": 89,
   "id": "3839cf6e",
   "metadata": {
    "scrolled": true
   },
   "outputs": [
    {
     "data": {
      "text/plain": [
       "<AxesSubplot:xlabel='Year_of_Release'>"
      ]
     },
     "execution_count": 89,
     "metadata": {},
     "output_type": "execute_result"
    },
    {
     "data": {
      "text/plain": [
       "<Figure size 432x288 with 0 Axes>"
      ]
     },
     "metadata": {},
     "output_type": "display_data"
    },
    {
     "data": {
      "image/png": "[encoded data removed]",
      "text/plain": [
       "<Figure size 432x288 with 1 Axes>"
      ]
     },
     "metadata": {},
     "output_type": "display_data"
    }
   ],
   "source": [
    "publisher_list = ['Electronic Arts', 'Nintendo', 'Sony Computer Entertainment']\n",
    "\n",
    "# select total global sales, year from dataset where publisher is \"EA\", \"nintendo\" or \"sony\" and year between 1990 and 2015\n",
    "filtered_sales = dataset['Global_Sales'][(dataset['Year_of_Release'].between(1990,2015)) & (dataset['Publisher'].isin(publisher_list))]\n",
    "dataset_q6 = pd.DataFrame({\n",
    "    \"Global_Sales\": filtered_sales,\n",
    "    \"Publisher\": dataset['Publisher'].isin(publisher_list),\n",
    "    \"Year_of_Release\": dataset['Year_of_Release'][dataset['Year_of_Release'].between(1990,2015)]\n",
    "})\n",
    "# using pivot tables\n",
    "q6_pivot = dataset_q6.pivot_table(index=\"Year_of_Release\", values=[\"Global_Sales\"], aggfunc={\"Global_Sales\": np.sum})\n",
    "\n",
    "plt.figure()\n",
    "q6_pivot.plot()"
   ]
  },
  {
   "cell_type": "code",
   "execution_count": 72,
   "id": "42eff63d",
   "metadata": {},
   "outputs": [
    {
     "data": {
      "text/plain": [
       "0        82.53\n",
       "1        40.24\n",
       "2        35.52\n",
       "3        32.77\n",
       "4        31.37\n",
       "         ...  \n",
       "16612     0.01\n",
       "16656     0.01\n",
       "16657     0.01\n",
       "16670     0.01\n",
       "16683     0.01\n",
       "Name: Global_Sales, Length: 2749, dtype: float64"
      ]
     },
     "execution_count": 72,
     "metadata": {},
     "output_type": "execute_result"
    }
   ],
   "source": [
    "publisher_list = ['Electronic Arts', 'Nintendo', 'Sony Computer Entertainment']\n",
    "\n",
    "dataset['Global_Sales'][dataset['Publisher'].isin(publisher_list)]\n"
   ]
  },
  {
   "cell_type": "markdown",
   "id": "ef3b84b5",
   "metadata": {},
   "source": [
    "##    a.\tWhich year saw the most unit sales for Nintendo?"
   ]
  },
  {
   "cell_type": "code",
   "execution_count": null,
   "id": "53879de7",
   "metadata": {},
   "outputs": [],
   "source": []
  },
  {
   "cell_type": "markdown",
   "id": "38ad20fe",
   "metadata": {},
   "source": [
    "## b.\tWhen did Electronic Arts start generating more annual global unit sales than Sony?"
   ]
  },
  {
   "cell_type": "code",
   "execution_count": null,
   "id": "0e1a9bfb",
   "metadata": {},
   "outputs": [],
   "source": []
  },
  {
   "cell_type": "markdown",
   "id": "c78cb309",
   "metadata": {},
   "source": [
    "# 7.\tIf you were a designer writing a new game in 2005, what genre and platform would you choose? Explain why?"
   ]
  },
  {
   "cell_type": "code",
   "execution_count": null,
   "id": "0bca35cb",
   "metadata": {},
   "outputs": [],
   "source": []
  },
  {
   "cell_type": "markdown",
   "id": "a9f4029d",
   "metadata": {},
   "source": [
    "#     8.\tStretch Question (you do not have to complete this question, but we will be interested in your opinion if you are able to work on this research)\n",
    "## Based on historical unit sales of games for Sony PlayStation, PlayStation 2, PlayStation 3 & PlayStation 4 what do you expect to see over the next few years for games growth and decline for PlayStation 5?"
   ]
  },
  {
   "cell_type": "code",
   "execution_count": null,
   "id": "fe06e51b",
   "metadata": {},
   "outputs": [],
   "source": []
  }
 ],
 "metadata": {
  "kernelspec": {
   "display_name": "Python 3 (ipykernel)",
   "language": "python",
   "name": "python3"
  },
  "language_info": {
   "codemirror_mode": {
    "name": "ipython",
    "version": 3
   },
   "file_extension": ".py",
   "mimetype": "text/x-python",
   "name": "python",
   "nbconvert_exporter": "python",
   "pygments_lexer": "ipython3",
   "version": "3.9.5"
  }
 },
 "nbformat": 4,
 "nbformat_minor": 5
}
