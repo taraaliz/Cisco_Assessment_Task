{
 "cells": [
  {
   "cell_type": "code",
   "execution_count": 1,
   "id": "663d681f",
   "metadata": {
    "scrolled": false
   },
   "outputs": [
    {
     "data": {
      "text/html": [
       "<div>\n",
       "<style scoped>\n",
       "    .dataframe tbody tr th:only-of-type {\n",
       "        vertical-align: middle;\n",
       "    }\n",
       "\n",
       "    .dataframe tbody tr th {\n",
       "        vertical-align: top;\n",
       "    }\n",
       "\n",
       "    .dataframe thead th {\n",
       "        text-align: right;\n",
       "    }\n",
       "</style>\n",
       "<table border=\"1\" class=\"dataframe\">\n",
       "  <thead>\n",
       "    <tr style=\"text-align: right;\">\n",
       "      <th></th>\n",
       "      <th>Name</th>\n",
       "      <th>Platform</th>\n",
       "      <th>Year_of_Release</th>\n",
       "      <th>Genre</th>\n",
       "      <th>Publisher</th>\n",
       "      <th>NA_Sales</th>\n",
       "      <th>EU_Sales</th>\n",
       "      <th>JP_Sales</th>\n",
       "      <th>Other_Sales</th>\n",
       "      <th>Global_Sales</th>\n",
       "      <th>Critic_Score</th>\n",
       "      <th>Critic_Count</th>\n",
       "      <th>User_Score</th>\n",
       "      <th>User_Count</th>\n",
       "      <th>Developer</th>\n",
       "      <th>Rating</th>\n",
       "    </tr>\n",
       "  </thead>\n",
       "  <tbody>\n",
       "    <tr>\n",
       "      <th>0</th>\n",
       "      <td>Wii Sports</td>\n",
       "      <td>Wii</td>\n",
       "      <td>2006.0</td>\n",
       "      <td>Sports</td>\n",
       "      <td>Nintendo</td>\n",
       "      <td>41.36</td>\n",
       "      <td>28.96</td>\n",
       "      <td>3.77</td>\n",
       "      <td>8.45</td>\n",
       "      <td>82.53</td>\n",
       "      <td>76.0</td>\n",
       "      <td>51.0</td>\n",
       "      <td>8</td>\n",
       "      <td>322.0</td>\n",
       "      <td>Nintendo</td>\n",
       "      <td>E</td>\n",
       "    </tr>\n",
       "    <tr>\n",
       "      <th>1</th>\n",
       "      <td>Super Mario Bros.</td>\n",
       "      <td>NES</td>\n",
       "      <td>1985.0</td>\n",
       "      <td>Platform</td>\n",
       "      <td>Nintendo</td>\n",
       "      <td>29.08</td>\n",
       "      <td>3.58</td>\n",
       "      <td>6.81</td>\n",
       "      <td>0.77</td>\n",
       "      <td>40.24</td>\n",
       "      <td>NaN</td>\n",
       "      <td>NaN</td>\n",
       "      <td>NaN</td>\n",
       "      <td>NaN</td>\n",
       "      <td>NaN</td>\n",
       "      <td>NaN</td>\n",
       "    </tr>\n",
       "    <tr>\n",
       "      <th>2</th>\n",
       "      <td>Mario Kart Wii</td>\n",
       "      <td>Wii</td>\n",
       "      <td>2008.0</td>\n",
       "      <td>Racing</td>\n",
       "      <td>Nintendo</td>\n",
       "      <td>15.68</td>\n",
       "      <td>12.76</td>\n",
       "      <td>3.79</td>\n",
       "      <td>3.29</td>\n",
       "      <td>35.52</td>\n",
       "      <td>82.0</td>\n",
       "      <td>73.0</td>\n",
       "      <td>8.3</td>\n",
       "      <td>709.0</td>\n",
       "      <td>Nintendo</td>\n",
       "      <td>E</td>\n",
       "    </tr>\n",
       "    <tr>\n",
       "      <th>3</th>\n",
       "      <td>Wii Sports Resort</td>\n",
       "      <td>Wii</td>\n",
       "      <td>2009.0</td>\n",
       "      <td>Sports</td>\n",
       "      <td>Nintendo</td>\n",
       "      <td>15.61</td>\n",
       "      <td>10.93</td>\n",
       "      <td>3.28</td>\n",
       "      <td>2.95</td>\n",
       "      <td>32.77</td>\n",
       "      <td>80.0</td>\n",
       "      <td>73.0</td>\n",
       "      <td>8</td>\n",
       "      <td>192.0</td>\n",
       "      <td>Nintendo</td>\n",
       "      <td>E</td>\n",
       "    </tr>\n",
       "    <tr>\n",
       "      <th>4</th>\n",
       "      <td>Pokemon Red/Pokemon Blue</td>\n",
       "      <td>GB</td>\n",
       "      <td>1996.0</td>\n",
       "      <td>Role-Playing</td>\n",
       "      <td>Nintendo</td>\n",
       "      <td>11.27</td>\n",
       "      <td>8.89</td>\n",
       "      <td>10.22</td>\n",
       "      <td>1.00</td>\n",
       "      <td>31.37</td>\n",
       "      <td>NaN</td>\n",
       "      <td>NaN</td>\n",
       "      <td>NaN</td>\n",
       "      <td>NaN</td>\n",
       "      <td>NaN</td>\n",
       "      <td>NaN</td>\n",
       "    </tr>\n",
       "  </tbody>\n",
       "</table>\n",
       "</div>"
      ],
      "text/plain": [
       "                       Name Platform  Year_of_Release         Genre Publisher  \\\n",
       "0                Wii Sports      Wii           2006.0        Sports  Nintendo   \n",
       "1         Super Mario Bros.      NES           1985.0      Platform  Nintendo   \n",
       "2            Mario Kart Wii      Wii           2008.0        Racing  Nintendo   \n",
       "3         Wii Sports Resort      Wii           2009.0        Sports  Nintendo   \n",
       "4  Pokemon Red/Pokemon Blue       GB           1996.0  Role-Playing  Nintendo   \n",
       "\n",
       "   NA_Sales  EU_Sales  JP_Sales  Other_Sales  Global_Sales  Critic_Score  \\\n",
       "0     41.36     28.96      3.77         8.45         82.53          76.0   \n",
       "1     29.08      3.58      6.81         0.77         40.24           NaN   \n",
       "2     15.68     12.76      3.79         3.29         35.52          82.0   \n",
       "3     15.61     10.93      3.28         2.95         32.77          80.0   \n",
       "4     11.27      8.89     10.22         1.00         31.37           NaN   \n",
       "\n",
       "   Critic_Count User_Score  User_Count Developer Rating  \n",
       "0          51.0          8       322.0  Nintendo      E  \n",
       "1           NaN        NaN         NaN       NaN    NaN  \n",
       "2          73.0        8.3       709.0  Nintendo      E  \n",
       "3          73.0          8       192.0  Nintendo      E  \n",
       "4           NaN        NaN         NaN       NaN    NaN  "
      ]
     },
     "execution_count": 1,
     "metadata": {},
     "output_type": "execute_result"
    }
   ],
   "source": [
    "import pandas as pd\n",
    "import numpy as np\n",
    "import seaborn as sns\n",
    "import matplotlib.pyplot as plt\n",
    "sns.set()\n",
    "\n",
    "dataset = pd.read_csv('data/Video_Games_Sales_as_at_22_Dec_2016.csv')\n",
    "dataset.head()"
   ]
  },
  {
   "cell_type": "code",
   "execution_count": 2,
   "id": "7a12c657",
   "metadata": {
    "scrolled": true
   },
   "outputs": [
    {
     "name": "stdout",
     "output_type": "stream",
     "text": [
      "<class 'pandas.core.frame.DataFrame'>\n",
      "RangeIndex: 16719 entries, 0 to 16718\n",
      "Data columns (total 16 columns):\n",
      " #   Column           Non-Null Count  Dtype  \n",
      "---  ------           --------------  -----  \n",
      " 0   Name             16717 non-null  object \n",
      " 1   Platform         16719 non-null  object \n",
      " 2   Year_of_Release  16450 non-null  float64\n",
      " 3   Genre            16717 non-null  object \n",
      " 4   Publisher        16665 non-null  object \n",
      " 5   NA_Sales         16719 non-null  float64\n",
      " 6   EU_Sales         16719 non-null  float64\n",
      " 7   JP_Sales         16719 non-null  float64\n",
      " 8   Other_Sales      16719 non-null  float64\n",
      " 9   Global_Sales     16719 non-null  float64\n",
      " 10  Critic_Score     8137 non-null   float64\n",
      " 11  Critic_Count     8137 non-null   float64\n",
      " 12  User_Score       10015 non-null  object \n",
      " 13  User_Count       7590 non-null   float64\n",
      " 14  Developer        10096 non-null  object \n",
      " 15  Rating           9950 non-null   object \n",
      "dtypes: float64(9), object(7)\n",
      "memory usage: 2.0+ MB\n"
     ]
    }
   ],
   "source": [
    "dataset.info()"
   ]
  },
  {
   "cell_type": "code",
   "execution_count": 3,
   "id": "304889c7",
   "metadata": {},
   "outputs": [],
   "source": [
    "dataset_clean = dataset.dropna()"
   ]
  },
  {
   "cell_type": "code",
   "execution_count": 4,
   "id": "57fbdd36",
   "metadata": {
    "scrolled": true
   },
   "outputs": [
    {
     "name": "stdout",
     "output_type": "stream",
     "text": [
      "<class 'pandas.core.frame.DataFrame'>\n",
      "Int64Index: 6825 entries, 0 to 16706\n",
      "Data columns (total 16 columns):\n",
      " #   Column           Non-Null Count  Dtype  \n",
      "---  ------           --------------  -----  \n",
      " 0   Name             6825 non-null   object \n",
      " 1   Platform         6825 non-null   object \n",
      " 2   Year_of_Release  6825 non-null   float64\n",
      " 3   Genre            6825 non-null   object \n",
      " 4   Publisher        6825 non-null   object \n",
      " 5   NA_Sales         6825 non-null   float64\n",
      " 6   EU_Sales         6825 non-null   float64\n",
      " 7   JP_Sales         6825 non-null   float64\n",
      " 8   Other_Sales      6825 non-null   float64\n",
      " 9   Global_Sales     6825 non-null   float64\n",
      " 10  Critic_Score     6825 non-null   float64\n",
      " 11  Critic_Count     6825 non-null   float64\n",
      " 12  User_Score       6825 non-null   object \n",
      " 13  User_Count       6825 non-null   float64\n",
      " 14  Developer        6825 non-null   object \n",
      " 15  Rating           6825 non-null   object \n",
      "dtypes: float64(9), object(7)\n",
      "memory usage: 906.4+ KB\n"
     ]
    }
   ],
   "source": [
    "dataset_clean.info()"
   ]
  },
  {
   "cell_type": "markdown",
   "id": "16dbc366",
   "metadata": {},
   "source": [
    "# 1.\tBased on the count of game titles, which platform has had the most games?"
   ]
  },
  {
   "cell_type": "code",
   "execution_count": 5,
   "id": "e951fe0b",
   "metadata": {},
   "outputs": [
    {
     "name": "stdout",
     "output_type": "stream",
     "text": [
      "With 2161 games, PS2 has had the most games based on the count of game titles.\n"
     ]
    }
   ],
   "source": [
    "platform_game_counts = dataset['Platform'].value_counts()\n",
    "game_count = platform_game_counts.max()\n",
    "modal_platform = platform_game_counts.idxmax()\n",
    "print(\"With {} games, {} has had the most games based on the count of game titles.\".format(game_count, modal_platform))"
   ]
  },
  {
   "cell_type": "markdown",
   "id": "140dff26",
   "metadata": {},
   "source": [
    "# 2.\tWhich genre of game has generated the most unit sales?"
   ]
  },
  {
   "cell_type": "code",
   "execution_count": 6,
   "id": "ab7af190",
   "metadata": {
    "scrolled": false
   },
   "outputs": [
    {
     "data": {
      "text/html": [
       "<div>\n",
       "<style scoped>\n",
       "    .dataframe tbody tr th:only-of-type {\n",
       "        vertical-align: middle;\n",
       "    }\n",
       "\n",
       "    .dataframe tbody tr th {\n",
       "        vertical-align: top;\n",
       "    }\n",
       "\n",
       "    .dataframe thead th {\n",
       "        text-align: right;\n",
       "    }\n",
       "</style>\n",
       "<table border=\"1\" class=\"dataframe\">\n",
       "  <thead>\n",
       "    <tr style=\"text-align: right;\">\n",
       "      <th></th>\n",
       "      <th>Global_Sales</th>\n",
       "      <th>Genre</th>\n",
       "    </tr>\n",
       "  </thead>\n",
       "  <tbody>\n",
       "    <tr>\n",
       "      <th>0</th>\n",
       "      <td>82.53</td>\n",
       "      <td>Sports</td>\n",
       "    </tr>\n",
       "    <tr>\n",
       "      <th>1</th>\n",
       "      <td>40.24</td>\n",
       "      <td>Platform</td>\n",
       "    </tr>\n",
       "    <tr>\n",
       "      <th>2</th>\n",
       "      <td>35.52</td>\n",
       "      <td>Racing</td>\n",
       "    </tr>\n",
       "    <tr>\n",
       "      <th>3</th>\n",
       "      <td>32.77</td>\n",
       "      <td>Sports</td>\n",
       "    </tr>\n",
       "    <tr>\n",
       "      <th>4</th>\n",
       "      <td>31.37</td>\n",
       "      <td>Role-Playing</td>\n",
       "    </tr>\n",
       "    <tr>\n",
       "      <th>...</th>\n",
       "      <td>...</td>\n",
       "      <td>...</td>\n",
       "    </tr>\n",
       "    <tr>\n",
       "      <th>16714</th>\n",
       "      <td>0.01</td>\n",
       "      <td>Action</td>\n",
       "    </tr>\n",
       "    <tr>\n",
       "      <th>16715</th>\n",
       "      <td>0.01</td>\n",
       "      <td>Sports</td>\n",
       "    </tr>\n",
       "    <tr>\n",
       "      <th>16716</th>\n",
       "      <td>0.01</td>\n",
       "      <td>Adventure</td>\n",
       "    </tr>\n",
       "    <tr>\n",
       "      <th>16717</th>\n",
       "      <td>0.01</td>\n",
       "      <td>Platform</td>\n",
       "    </tr>\n",
       "    <tr>\n",
       "      <th>16718</th>\n",
       "      <td>0.01</td>\n",
       "      <td>Simulation</td>\n",
       "    </tr>\n",
       "  </tbody>\n",
       "</table>\n",
       "<p>16719 rows × 2 columns</p>\n",
       "</div>"
      ],
      "text/plain": [
       "       Global_Sales         Genre\n",
       "0             82.53        Sports\n",
       "1             40.24      Platform\n",
       "2             35.52        Racing\n",
       "3             32.77        Sports\n",
       "4             31.37  Role-Playing\n",
       "...             ...           ...\n",
       "16714          0.01        Action\n",
       "16715          0.01        Sports\n",
       "16716          0.01     Adventure\n",
       "16717          0.01      Platform\n",
       "16718          0.01    Simulation\n",
       "\n",
       "[16719 rows x 2 columns]"
      ]
     },
     "execution_count": 6,
     "metadata": {},
     "output_type": "execute_result"
    }
   ],
   "source": [
    "# genre with highest Global_Sales\n",
    "sales_vs_genre = dataset[['Global_Sales','Genre']]\n",
    "sales_vs_genre"
   ]
  },
  {
   "cell_type": "code",
   "execution_count": 7,
   "id": "5efb15af",
   "metadata": {
    "scrolled": false
   },
   "outputs": [
    {
     "data": {
      "text/plain": [
       "<AxesSubplot:xlabel='Genre'>"
      ]
     },
     "execution_count": 7,
     "metadata": {},
     "output_type": "execute_result"
    },
    {
     "data": {
      "image/png": "[encoded data removed]",
      "text/plain": [
       "<Figure size 432x288 with 1 Axes>"
      ]
     },
     "metadata": {},
     "output_type": "display_data"
    }
   ],
   "source": [
    "data = []\n",
    "genres = ['Action','Sports','Misc','Role-Playing','Shooter','Adventure','Racing','Platform','Simulation','Fighting','Strategy','Puzzle']\n",
    "for genre in genres:\n",
    "    data.append([genre, sales_vs_genre['Global_Sales'][sales_vs_genre['Genre']==genre].sum()])\n",
    "\n",
    "total_sales_per_genre = [data[i][1] for i in range(len(data))]\n",
    "\n",
    "sales_df = pd.DataFrame({'Genre':genres, 'Total Sales':total_sales_per_genre})\n",
    "sales_df.plot.bar(x='Genre', y='Total Sales')\n"
   ]
  },
  {
   "cell_type": "markdown",
   "id": "55b392db",
   "metadata": {},
   "source": [
    "Therefore, the action genre had the most unit sales."
   ]
  },
  {
   "cell_type": "markdown",
   "id": "16738361",
   "metadata": {},
   "source": [
    "#### Method note\n",
    "I wrote this before discovering the groupby() function, which would have made answering this question a little easier! Use of the function is shown in later questions below."
   ]
  },
  {
   "cell_type": "markdown",
   "id": "373e7cc6",
   "metadata": {},
   "source": [
    "# 3.\tShow the annual global unit sales by year for all games between 1995 and 2015"
   ]
  },
  {
   "cell_type": "code",
   "execution_count": 8,
   "id": "e183ab26",
   "metadata": {
    "scrolled": false
   },
   "outputs": [
    {
     "name": "stderr",
     "output_type": "stream",
     "text": [
      "*c* argument looks like a single numeric RGB or RGBA sequence, which should be avoided as value-mapping will have precedence in case its length matches with *x* & *y*.  Please use the *color* keyword-argument or provide a 2D array with a single row if you intend to specify the same RGB or RGBA value for all points.\n"
     ]
    },
    {
     "data": {
      "text/html": [
       "<div>\n",
       "<style scoped>\n",
       "    .dataframe tbody tr th:only-of-type {\n",
       "        vertical-align: middle;\n",
       "    }\n",
       "\n",
       "    .dataframe tbody tr th {\n",
       "        vertical-align: top;\n",
       "    }\n",
       "\n",
       "    .dataframe thead th {\n",
       "        text-align: right;\n",
       "    }\n",
       "</style>\n",
       "<table border=\"1\" class=\"dataframe\">\n",
       "  <thead>\n",
       "    <tr style=\"text-align: right;\">\n",
       "      <th></th>\n",
       "      <th>Year of Release</th>\n",
       "      <th>Annual Global Unit Sales</th>\n",
       "    </tr>\n",
       "  </thead>\n",
       "  <tbody>\n",
       "    <tr>\n",
       "      <th>153</th>\n",
       "      <td>1996-01-01</td>\n",
       "      <td>20.10</td>\n",
       "    </tr>\n",
       "    <tr>\n",
       "      <th>52</th>\n",
       "      <td>1997-01-01</td>\n",
       "      <td>35.01</td>\n",
       "    </tr>\n",
       "    <tr>\n",
       "      <th>106</th>\n",
       "      <td>1998-01-01</td>\n",
       "      <td>43.18</td>\n",
       "    </tr>\n",
       "    <tr>\n",
       "      <th>67</th>\n",
       "      <td>1999-01-01</td>\n",
       "      <td>51.17</td>\n",
       "    </tr>\n",
       "    <tr>\n",
       "      <th>175</th>\n",
       "      <td>2000-01-01</td>\n",
       "      <td>81.24</td>\n",
       "    </tr>\n",
       "    <tr>\n",
       "      <th>28</th>\n",
       "      <td>2001-01-01</td>\n",
       "      <td>253.88</td>\n",
       "    </tr>\n",
       "    <tr>\n",
       "      <th>24</th>\n",
       "      <td>2002-01-01</td>\n",
       "      <td>288.84</td>\n",
       "    </tr>\n",
       "    <tr>\n",
       "      <th>102</th>\n",
       "      <td>2003-01-01</td>\n",
       "      <td>255.35</td>\n",
       "    </tr>\n",
       "    <tr>\n",
       "      <th>17</th>\n",
       "      <td>2004-01-01</td>\n",
       "      <td>321.78</td>\n",
       "    </tr>\n",
       "    <tr>\n",
       "      <th>11</th>\n",
       "      <td>2005-01-01</td>\n",
       "      <td>334.32</td>\n",
       "    </tr>\n",
       "    <tr>\n",
       "      <th>0</th>\n",
       "      <td>2006-01-01</td>\n",
       "      <td>416.72</td>\n",
       "    </tr>\n",
       "    <tr>\n",
       "      <th>13</th>\n",
       "      <td>2007-01-01</td>\n",
       "      <td>456.23</td>\n",
       "    </tr>\n",
       "    <tr>\n",
       "      <th>2</th>\n",
       "      <td>2008-01-01</td>\n",
       "      <td>489.12</td>\n",
       "    </tr>\n",
       "    <tr>\n",
       "      <th>3</th>\n",
       "      <td>2009-01-01</td>\n",
       "      <td>459.85</td>\n",
       "    </tr>\n",
       "    <tr>\n",
       "      <th>14</th>\n",
       "      <td>2010-01-01</td>\n",
       "      <td>412.96</td>\n",
       "    </tr>\n",
       "    <tr>\n",
       "      <th>29</th>\n",
       "      <td>2011-01-01</td>\n",
       "      <td>383.69</td>\n",
       "    </tr>\n",
       "    <tr>\n",
       "      <th>34</th>\n",
       "      <td>2012-01-01</td>\n",
       "      <td>291.93</td>\n",
       "    </tr>\n",
       "    <tr>\n",
       "      <th>16</th>\n",
       "      <td>2013-01-01</td>\n",
       "      <td>267.17</td>\n",
       "    </tr>\n",
       "    <tr>\n",
       "      <th>42</th>\n",
       "      <td>2014-01-01</td>\n",
       "      <td>192.43</td>\n",
       "    </tr>\n",
       "    <tr>\n",
       "      <th>77</th>\n",
       "      <td>2015-01-01</td>\n",
       "      <td>159.16</td>\n",
       "    </tr>\n",
       "  </tbody>\n",
       "</table>\n",
       "</div>"
      ],
      "text/plain": [
       "    Year of Release  Annual Global Unit Sales\n",
       "153      1996-01-01                     20.10\n",
       "52       1997-01-01                     35.01\n",
       "106      1998-01-01                     43.18\n",
       "67       1999-01-01                     51.17\n",
       "175      2000-01-01                     81.24\n",
       "28       2001-01-01                    253.88\n",
       "24       2002-01-01                    288.84\n",
       "102      2003-01-01                    255.35\n",
       "17       2004-01-01                    321.78\n",
       "11       2005-01-01                    334.32\n",
       "0        2006-01-01                    416.72\n",
       "13       2007-01-01                    456.23\n",
       "2        2008-01-01                    489.12\n",
       "3        2009-01-01                    459.85\n",
       "14       2010-01-01                    412.96\n",
       "29       2011-01-01                    383.69\n",
       "34       2012-01-01                    291.93\n",
       "16       2013-01-01                    267.17\n",
       "42       2014-01-01                    192.43\n",
       "77       2015-01-01                    159.16"
      ]
     },
     "execution_count": 8,
     "metadata": {},
     "output_type": "execute_result"
    },
    {
     "data": {
      "image/png": "[encoded data removed]",
      "text/plain": [
       "<Figure size 432x288 with 1 Axes>"
      ]
     },
     "metadata": {},
     "output_type": "display_data"
    },
    {
     "data": {
      "image/png": "[encoded data removed]",
      "text/plain": [
       "<Figure size 432x288 with 1 Axes>"
      ]
     },
     "metadata": {},
     "output_type": "display_data"
    }
   ],
   "source": [
    "total_global_sales = dataset_clean['Global_Sales'].groupby(dataset_clean['Year_of_Release']).transform('sum')\n",
    "dataset_clean = dataset_clean.astype({'Year_of_Release': int})\n",
    "year = dataset_clean['Year_of_Release'][dataset_clean['Year_of_Release'].between(1995, 2015)]\n",
    "year = pd.to_datetime(year.astype(str), format=\"%Y\")\n",
    "\n",
    "sales_vs_year = pd.DataFrame({'Year of Release':year, 'Annual Global Unit Sales':total_global_sales})\n",
    "sales_vs_year = sales_vs_year.drop_duplicates()\n",
    "sales_vs_year = sales_vs_year.dropna()\n",
    "sales_vs_year = sales_vs_year.sort_values(by = 'Year of Release', axis='index')\n",
    "\n",
    "sales_vs_year.plot.scatter(x='Year of Release', y='Annual Global Unit Sales')\n",
    "sales_vs_year.plot.line(x='Year of Release', y='Annual Global Unit Sales')\n",
    "sales_vs_year"
   ]
  },
  {
   "cell_type": "markdown",
   "id": "af75d707",
   "metadata": {},
   "source": [
    "# 4.\tBased on global unit sales, who are the top 5 game publishers?"
   ]
  },
  {
   "cell_type": "code",
   "execution_count": 9,
   "id": "c9c79db5",
   "metadata": {
    "scrolled": true
   },
   "outputs": [
    {
     "data": {
      "text/html": [
       "<div>\n",
       "<style scoped>\n",
       "    .dataframe tbody tr th:only-of-type {\n",
       "        vertical-align: middle;\n",
       "    }\n",
       "\n",
       "    .dataframe tbody tr th {\n",
       "        vertical-align: top;\n",
       "    }\n",
       "\n",
       "    .dataframe thead th {\n",
       "        text-align: right;\n",
       "    }\n",
       "</style>\n",
       "<table border=\"1\" class=\"dataframe\">\n",
       "  <thead>\n",
       "    <tr style=\"text-align: right;\">\n",
       "      <th></th>\n",
       "      <th>Total_Global_Sales</th>\n",
       "      <th>Publisher</th>\n",
       "    </tr>\n",
       "  </thead>\n",
       "  <tbody>\n",
       "    <tr>\n",
       "      <th>77</th>\n",
       "      <td>868.55</td>\n",
       "      <td>Electronic Arts</td>\n",
       "    </tr>\n",
       "    <tr>\n",
       "      <th>0</th>\n",
       "      <td>849.49</td>\n",
       "      <td>Nintendo</td>\n",
       "    </tr>\n",
       "    <tr>\n",
       "      <th>29</th>\n",
       "      <td>535.74</td>\n",
       "      <td>Activision</td>\n",
       "    </tr>\n",
       "    <tr>\n",
       "      <th>28</th>\n",
       "      <td>388.10</td>\n",
       "      <td>Sony Computer Entertainment</td>\n",
       "    </tr>\n",
       "    <tr>\n",
       "      <th>16</th>\n",
       "      <td>350.17</td>\n",
       "      <td>Take-Two Interactive</td>\n",
       "    </tr>\n",
       "  </tbody>\n",
       "</table>\n",
       "</div>"
      ],
      "text/plain": [
       "    Total_Global_Sales                    Publisher\n",
       "77              868.55              Electronic Arts\n",
       "0               849.49                     Nintendo\n",
       "29              535.74                   Activision\n",
       "28              388.10  Sony Computer Entertainment\n",
       "16              350.17         Take-Two Interactive"
      ]
     },
     "execution_count": 9,
     "metadata": {},
     "output_type": "execute_result"
    }
   ],
   "source": [
    "# sort by Global_Sales and show top 5 Publishers\n",
    "\n",
    "# gives total global sales by publisher - otherwise gives sum of whole column\n",
    "total_sales = dataset_clean['Global_Sales'].groupby(dataset_clean['Publisher']).transform('sum')\n",
    "\n",
    "# create new dataframe of only publisher and total global sales\n",
    "sales_vs_publisher = pd.DataFrame({\n",
    "    'Total_Global_Sales': total_sales,\n",
    "    'Publisher': dataset_clean['Publisher']\n",
    "})\n",
    "\n",
    "# drop duplicates created by the summing - otherwise \n",
    "# it creates one row for each row we had in initial dataset\n",
    "sales_vs_publisher = sales_vs_publisher.drop_duplicates()\n",
    "\n",
    "# sort in descending order by total global sales\n",
    "sales_vs_publisher = sales_vs_publisher.sort_values(by=['Total_Global_Sales'], ascending=False)\n",
    "\n",
    "# top 5 rows\n",
    "sales_vs_publisher.head()"
   ]
  },
  {
   "cell_type": "markdown",
   "id": "d5b27fb0",
   "metadata": {},
   "source": [
    "Based on global unit sales, the top 5 game publishers are Electronic Arts, Nintendo, Activision, Sony Computer Entertainment, and Take-Two Interactive."
   ]
  },
  {
   "cell_type": "markdown",
   "id": "77c8b129",
   "metadata": {},
   "source": [
    "# 5.\tBased on global unit sales, who were the top 5 game publishers in 1995?"
   ]
  },
  {
   "cell_type": "code",
   "execution_count": 10,
   "id": "4f2de27d",
   "metadata": {
    "scrolled": true
   },
   "outputs": [
    {
     "data": {
      "text/html": [
       "<div>\n",
       "<style scoped>\n",
       "    .dataframe tbody tr th:only-of-type {\n",
       "        vertical-align: middle;\n",
       "    }\n",
       "\n",
       "    .dataframe tbody tr th {\n",
       "        vertical-align: top;\n",
       "    }\n",
       "\n",
       "    .dataframe thead th {\n",
       "        text-align: right;\n",
       "    }\n",
       "</style>\n",
       "<table border=\"1\" class=\"dataframe\">\n",
       "  <thead>\n",
       "    <tr style=\"text-align: right;\">\n",
       "      <th></th>\n",
       "      <th>Total_Global_Sales</th>\n",
       "      <th>Publisher</th>\n",
       "    </tr>\n",
       "  </thead>\n",
       "  <tbody>\n",
       "    <tr>\n",
       "      <th>321</th>\n",
       "      <td>18.45</td>\n",
       "      <td>Sony Computer Entertainment</td>\n",
       "    </tr>\n",
       "    <tr>\n",
       "      <th>191</th>\n",
       "      <td>16.72</td>\n",
       "      <td>Nintendo</td>\n",
       "    </tr>\n",
       "    <tr>\n",
       "      <th>893</th>\n",
       "      <td>7.93</td>\n",
       "      <td>Sega</td>\n",
       "    </tr>\n",
       "    <tr>\n",
       "      <th>687</th>\n",
       "      <td>5.10</td>\n",
       "      <td>SquareSoft</td>\n",
       "    </tr>\n",
       "    <tr>\n",
       "      <th>273</th>\n",
       "      <td>4.21</td>\n",
       "      <td>Activision</td>\n",
       "    </tr>\n",
       "  </tbody>\n",
       "</table>\n",
       "</div>"
      ],
      "text/plain": [
       "     Total_Global_Sales                    Publisher\n",
       "321               18.45  Sony Computer Entertainment\n",
       "191               16.72                     Nintendo\n",
       "893                7.93                         Sega\n",
       "687                5.10                   SquareSoft\n",
       "273                4.21                   Activision"
      ]
     },
     "execution_count": 10,
     "metadata": {},
     "output_type": "execute_result"
    }
   ],
   "source": [
    "# select total global sales, publisher from dataset where Year_of_Release = 1995\n",
    "\n",
    "# can't use the cleaned dataset here because there are no instances of 1995 games without any null values (some not released in other regions etc)\n",
    "# selects only entries with year 1995\n",
    "dataset_95 = dataset[dataset['Year_of_Release'] == 1995]\n",
    "\n",
    "# calculate total sales per publisher\n",
    "total_sales_95 = dataset_95['Global_Sales'].groupby(dataset_95['Publisher']).transform('sum')\n",
    "sales_vs_publisher_95 = pd.DataFrame({\n",
    "    'Total_Global_Sales': total_sales_95,\n",
    "    'Publisher': dataset_95['Publisher']\n",
    "})\n",
    "\n",
    "sales_vs_publisher_95 = sales_vs_publisher_95.drop_duplicates()\n",
    "\n",
    "sales_vs_publisher_95 = sales_vs_publisher_95.sort_values(by='Total_Global_Sales', ascending=False)\n",
    "sales_vs_publisher_95.head()"
   ]
  },
  {
   "cell_type": "markdown",
   "id": "a0d8eb5e",
   "metadata": {},
   "source": [
    "Based on global unit sales, the top 5 game publishes in *1995* were Sony, Nintendo, Sega, SquareSoft and Activision."
   ]
  },
  {
   "cell_type": "markdown",
   "id": "f27681fd",
   "metadata": {},
   "source": [
    "# 6.\tShow global annual unit sales by year for “Electronic Arts”, “Nintendo” and “Sony Computer Entertainment” between 1990 and 2015"
   ]
  },
  {
   "cell_type": "code",
   "execution_count": 11,
   "id": "422152cf",
   "metadata": {
    "scrolled": true
   },
   "outputs": [
    {
     "data": {
      "text/plain": [
       "<AxesSubplot:xlabel='Year_of_Release', ylabel='Total_Global_Sales'>"
      ]
     },
     "execution_count": 11,
     "metadata": {},
     "output_type": "execute_result"
    },
    {
     "data": {
      "image/png": "[encoded data removed]",
      "text/plain": [
       "<Figure size 432x288 with 1 Axes>"
      ]
     },
     "metadata": {},
     "output_type": "display_data"
    }
   ],
   "source": [
    "# make a list of publishers so we don't have to type it out later\n",
    "publisher_list = ['Electronic Arts', 'Nintendo', 'Sony Computer Entertainment']\n",
    "\n",
    "# create a panda series (not a new dataframe as done previously)\n",
    "# format dataset[rows][columns]\n",
    "data = dataset[\n",
    "    (dataset['Publisher'].isin(publisher_list))\n",
    "    &\n",
    "    (dataset['Year_of_Release'].between(1990,2015))\n",
    "][\n",
    "    ['Global_Sales','Year_of_Release','Publisher']\n",
    "].drop_duplicates()\n",
    "\n",
    "# create new column of total sales\n",
    "data['Total_Global_Sales'] = data.groupby(['Publisher', 'Year_of_Release']).transform('sum')\n",
    "\n",
    "# order data before plotting line chart or you end up with spaghetti!\n",
    "data = data.sort_values(by=['Year_of_Release'])\n",
    "sns.lineplot(data=data, x=\"Year_of_Release\", y=\"Total_Global_Sales\", hue=\"Publisher\")"
   ]
  },
  {
   "cell_type": "markdown",
   "id": "2ffbb1b3",
   "metadata": {},
   "source": [
    "# a.\tWhich year saw the most unit sales for Nintendo?"
   ]
  },
  {
   "cell_type": "code",
   "execution_count": 12,
   "id": "b7c869a1",
   "metadata": {},
   "outputs": [
    {
     "name": "stderr",
     "output_type": "stream",
     "text": [
      "/tmp/ipykernel_47217/4068845809.py:3: UserWarning: Boolean Series key will be reindexed to match DataFrame index.\n",
      "  data[dataset['Publisher'] == 'Nintendo'][['Year_of_Release', 'Total_Global_Sales']].sort_values(by='Total_Global_Sales', ascending=False).drop_duplicates().head()\n"
     ]
    },
    {
     "data": {
      "text/html": [
       "<div>\n",
       "<style scoped>\n",
       "    .dataframe tbody tr th:only-of-type {\n",
       "        vertical-align: middle;\n",
       "    }\n",
       "\n",
       "    .dataframe tbody tr th {\n",
       "        vertical-align: top;\n",
       "    }\n",
       "\n",
       "    .dataframe thead th {\n",
       "        text-align: right;\n",
       "    }\n",
       "</style>\n",
       "<table border=\"1\" class=\"dataframe\">\n",
       "  <thead>\n",
       "    <tr style=\"text-align: right;\">\n",
       "      <th></th>\n",
       "      <th>Year_of_Release</th>\n",
       "      <th>Total_Global_Sales</th>\n",
       "    </tr>\n",
       "  </thead>\n",
       "  <tbody>\n",
       "    <tr>\n",
       "      <th>3782</th>\n",
       "      <td>2006.0</td>\n",
       "      <td>203.38</td>\n",
       "    </tr>\n",
       "    <tr>\n",
       "      <th>10288</th>\n",
       "      <td>2009.0</td>\n",
       "      <td>127.39</td>\n",
       "    </tr>\n",
       "    <tr>\n",
       "      <th>820</th>\n",
       "      <td>2005.0</td>\n",
       "      <td>125.91</td>\n",
       "    </tr>\n",
       "    <tr>\n",
       "      <th>308</th>\n",
       "      <td>2007.0</td>\n",
       "      <td>102.46</td>\n",
       "    </tr>\n",
       "    <tr>\n",
       "      <th>3895</th>\n",
       "      <td>2008.0</td>\n",
       "      <td>89.92</td>\n",
       "    </tr>\n",
       "  </tbody>\n",
       "</table>\n",
       "</div>"
      ],
      "text/plain": [
       "       Year_of_Release  Total_Global_Sales\n",
       "3782            2006.0              203.38\n",
       "10288           2009.0              127.39\n",
       "820             2005.0              125.91\n",
       "308             2007.0              102.46\n",
       "3895            2008.0               89.92"
      ]
     },
     "execution_count": 12,
     "metadata": {},
     "output_type": "execute_result"
    }
   ],
   "source": [
    "# select year_of_release and total_global_sales where publisher = Nintendo\n",
    "# sorted by total_global_sales, showing top 5 rows\n",
    "data[dataset['Publisher'] == 'Nintendo'][['Year_of_Release', 'Total_Global_Sales']].sort_values(by='Total_Global_Sales', ascending=False).drop_duplicates().head()"
   ]
  },
  {
   "cell_type": "markdown",
   "id": "dc9c9161",
   "metadata": {},
   "source": [
    "2006 was the best year for Nintendo with 203.38 million units sold."
   ]
  },
  {
   "cell_type": "markdown",
   "id": "404fe23c",
   "metadata": {},
   "source": [
    "# b.\tWhen did Electronic Arts start generating more annual global unit sales than Sony?"
   ]
  },
  {
   "cell_type": "markdown",
   "id": "0ca80e33",
   "metadata": {},
   "source": [
    "EA started generating more annual global unit sales than Sony around the year 2001, following the release of the first Sims game."
   ]
  },
  {
   "cell_type": "markdown",
   "id": "8d8c8c54",
   "metadata": {},
   "source": [
    "# 7.\tIf you were a designer writing a new game in 2005, what genre and platform would you choose? Explain why?"
   ]
  },
  {
   "cell_type": "markdown",
   "id": "460033b3",
   "metadata": {},
   "source": [
    "### Genre"
   ]
  },
  {
   "cell_type": "code",
   "execution_count": 13,
   "id": "25706a9e",
   "metadata": {
    "scrolled": false
   },
   "outputs": [
    {
     "data": {
      "text/html": [
       "<div>\n",
       "<style scoped>\n",
       "    .dataframe tbody tr th:only-of-type {\n",
       "        vertical-align: middle;\n",
       "    }\n",
       "\n",
       "    .dataframe tbody tr th {\n",
       "        vertical-align: top;\n",
       "    }\n",
       "\n",
       "    .dataframe thead th {\n",
       "        text-align: right;\n",
       "    }\n",
       "</style>\n",
       "<table border=\"1\" class=\"dataframe\">\n",
       "  <thead>\n",
       "    <tr style=\"text-align: right;\">\n",
       "      <th></th>\n",
       "      <th>Global_Sales</th>\n",
       "      <th>Year_of_Release</th>\n",
       "      <th>Genre</th>\n",
       "      <th>Total_Global_Sales</th>\n",
       "    </tr>\n",
       "  </thead>\n",
       "  <tbody>\n",
       "    <tr>\n",
       "      <th>0</th>\n",
       "      <td>82.53</td>\n",
       "      <td>2006.0</td>\n",
       "      <td>Sports</td>\n",
       "      <td>135.83</td>\n",
       "    </tr>\n",
       "    <tr>\n",
       "      <th>4094</th>\n",
       "      <td>0.48</td>\n",
       "      <td>2006.0</td>\n",
       "      <td>Sports</td>\n",
       "      <td>135.83</td>\n",
       "    </tr>\n",
       "    <tr>\n",
       "      <th>1508</th>\n",
       "      <td>1.30</td>\n",
       "      <td>2006.0</td>\n",
       "      <td>Sports</td>\n",
       "      <td>135.83</td>\n",
       "    </tr>\n",
       "    <tr>\n",
       "      <th>286</th>\n",
       "      <td>4.11</td>\n",
       "      <td>2006.0</td>\n",
       "      <td>Sports</td>\n",
       "      <td>135.83</td>\n",
       "    </tr>\n",
       "    <tr>\n",
       "      <th>11356</th>\n",
       "      <td>0.08</td>\n",
       "      <td>2006.0</td>\n",
       "      <td>Sports</td>\n",
       "      <td>135.83</td>\n",
       "    </tr>\n",
       "  </tbody>\n",
       "</table>\n",
       "</div>"
      ],
      "text/plain": [
       "       Global_Sales  Year_of_Release   Genre  Total_Global_Sales\n",
       "0             82.53           2006.0  Sports              135.83\n",
       "4094           0.48           2006.0  Sports              135.83\n",
       "1508           1.30           2006.0  Sports              135.83\n",
       "286            4.11           2006.0  Sports              135.83\n",
       "11356          0.08           2006.0  Sports              135.83"
      ]
     },
     "execution_count": 13,
     "metadata": {},
     "output_type": "execute_result"
    },
    {
     "data": {
      "image/png": "[encoded data removed]",
      "text/plain": [
       "<Figure size 432x288 with 1 Axes>"
      ]
     },
     "metadata": {},
     "output_type": "display_data"
    }
   ],
   "source": [
    "# get data on genres\n",
    "data_q7 = dataset[dataset['Year_of_Release'].between(2000,2006)][['Global_Sales','Year_of_Release','Genre']]\n",
    "data_q7[\"Total_Global_Sales\"] = data_q7.groupby(['Genre', 'Year_of_Release']).transform('sum')\n",
    "data_q7 = data_q7.drop_duplicates()\n",
    "data_q7 = data_q7.sort_values(by='Total_Global_Sales', ascending=False)\n",
    "\n",
    "\n",
    "# create matplotlib figure and axis, used later to change legend location\n",
    "fig, ax1 = plt.subplots(1,1)\n",
    "\n",
    "# create barchart plot\n",
    "barchart = sns.barplot(x=\"Year_of_Release\", y=\"Total_Global_Sales\", hue=\"Genre\", data=data_q7, ax=ax1)\n",
    "\n",
    "# move legend to right so we can see the barchart\n",
    "box = barchart.get_position()\n",
    "barchart.set_position([box.x0, box.y0, box.width * 2, box.height])\n",
    "barchart.legend(loc='center right', bbox_to_anchor=(1.2, 0.5), ncol=1)\n",
    "\n",
    "data_q7.head()"
   ]
  },
  {
   "cell_type": "markdown",
   "id": "e921ea6a",
   "metadata": {},
   "source": [
    "Looking at the total global unit sales per genre and year of release over the last 5 years, I would choose to develop an Action game, if I wanted to play it safe, or maybe a Sports game, if I thought that those might rise further in popularity in the next year. The Sports jump in 2006 is probably largely due to the release of Wii Sports in November 2006 following the release of the Wii. Interesting to see how big an impact it made!"
   ]
  },
  {
   "cell_type": "markdown",
   "id": "c1bdb74e",
   "metadata": {},
   "source": [
    "### Platform"
   ]
  },
  {
   "cell_type": "code",
   "execution_count": 14,
   "id": "f661d057",
   "metadata": {
    "scrolled": false
   },
   "outputs": [
    {
     "data": {
      "text/html": [
       "<div>\n",
       "<style scoped>\n",
       "    .dataframe tbody tr th:only-of-type {\n",
       "        vertical-align: middle;\n",
       "    }\n",
       "\n",
       "    .dataframe tbody tr th {\n",
       "        vertical-align: top;\n",
       "    }\n",
       "\n",
       "    .dataframe thead th {\n",
       "        text-align: right;\n",
       "    }\n",
       "</style>\n",
       "<table border=\"1\" class=\"dataframe\">\n",
       "  <thead>\n",
       "    <tr style=\"text-align: right;\">\n",
       "      <th></th>\n",
       "      <th>Year_of_Release</th>\n",
       "      <th>Platform</th>\n",
       "      <th>Total_Global_Sales</th>\n",
       "    </tr>\n",
       "  </thead>\n",
       "  <tbody>\n",
       "    <tr>\n",
       "      <th>6264</th>\n",
       "      <td>2004.0</td>\n",
       "      <td>PS2</td>\n",
       "      <td>211.78</td>\n",
       "    </tr>\n",
       "    <tr>\n",
       "      <th>8539</th>\n",
       "      <td>2002.0</td>\n",
       "      <td>PS2</td>\n",
       "      <td>205.40</td>\n",
       "    </tr>\n",
       "    <tr>\n",
       "      <th>7076</th>\n",
       "      <td>2003.0</td>\n",
       "      <td>PS2</td>\n",
       "      <td>184.29</td>\n",
       "    </tr>\n",
       "    <tr>\n",
       "      <th>4521</th>\n",
       "      <td>2001.0</td>\n",
       "      <td>PS2</td>\n",
       "      <td>166.43</td>\n",
       "    </tr>\n",
       "    <tr>\n",
       "      <th>3747</th>\n",
       "      <td>2005.0</td>\n",
       "      <td>PS2</td>\n",
       "      <td>160.65</td>\n",
       "    </tr>\n",
       "  </tbody>\n",
       "</table>\n",
       "</div>"
      ],
      "text/plain": [
       "      Year_of_Release Platform  Total_Global_Sales\n",
       "6264           2004.0      PS2              211.78\n",
       "8539           2002.0      PS2              205.40\n",
       "7076           2003.0      PS2              184.29\n",
       "4521           2001.0      PS2              166.43\n",
       "3747           2005.0      PS2              160.65"
      ]
     },
     "execution_count": 14,
     "metadata": {},
     "output_type": "execute_result"
    },
    {
     "data": {
      "image/png": "[encoded data removed]",
      "text/plain": [
       "<Figure size 432x288 with 1 Axes>"
      ]
     },
     "metadata": {},
     "output_type": "display_data"
    }
   ],
   "source": [
    "data_q7 = dataset[dataset['Year_of_Release'].between(2000,2006)][['Global_Sales','Year_of_Release','Platform']]\n",
    "data_q7[\"Total_Global_Sales\"] = data_q7.groupby(['Platform', 'Year_of_Release']).transform('sum')\n",
    "data_q7 = data_q7.sort_values(by='Total_Global_Sales', ascending=False)\n",
    "data_q7 = data_q7[['Year_of_Release', 'Platform', 'Total_Global_Sales']].drop_duplicates()\n",
    "\n",
    "# create matplotlib figure and axis, used later to change legend location\n",
    "fig, ax1 = plt.subplots(1,1)\n",
    "\n",
    "barchart = sns.barplot(x=\"Year_of_Release\", y=\"Total_Global_Sales\", hue=\"Platform\", data=data_q7, ax=ax1)\n",
    "\n",
    "# move legend to right so we can see the barchart\n",
    "box = barchart.get_position()\n",
    "barchart.set_position([box.x0, box.y0, box.width * 2, box.height])\n",
    "barchart.legend(loc='center right', bbox_to_anchor=(1.2, 0.5), ncol=1)\n",
    "\n",
    "data_q7.head()"
   ]
  },
  {
   "cell_type": "markdown",
   "id": "f5802e7b",
   "metadata": {},
   "source": [
    "Looking at the most popular platform over the last 5 years, I would choose to develop on PS2, however, the DS makes a notable jump between 2004 and 2005 so that would also be a good option, as it looks like it may over-take the PS2 in 2006 (which it does, but then the Wii comes out and overtakes *that*)."
   ]
  },
  {
   "cell_type": "markdown",
   "id": "771a3597",
   "metadata": {},
   "source": [
    "### Conclusion\n",
    "I would advise making an Action game on PS2 in the year 2005 based on this data, or possibly a Sports game on DS following rising trends."
   ]
  },
  {
   "cell_type": "markdown",
   "id": "15dd9b5e",
   "metadata": {},
   "source": [
    "# 8.\tStretch Question (you do not have to complete this question, but we will be interested in your opinion if you are able to work on this research) - Based on historical unit sales of games for Sony PlayStation, PlayStation 2, PlayStation 3 & PlayStation 4 what do you expect to see over the next few years for games growth and decline for PlayStation 5?"
   ]
  },
  {
   "cell_type": "code",
   "execution_count": 15,
   "id": "4366dca2",
   "metadata": {},
   "outputs": [
    {
     "data": {
      "text/plain": [
       "<AxesSubplot:xlabel='Year_of_Release', ylabel='Total_Global_Sales'>"
      ]
     },
     "execution_count": 15,
     "metadata": {},
     "output_type": "execute_result"
    },
    {
     "data": {
      "image/png": "[encoded data removed]",
      "text/plain": [
       "<Figure size 432x288 with 1 Axes>"
      ]
     },
     "metadata": {},
     "output_type": "display_data"
    }
   ],
   "source": [
    "platform_list = ['PS','PS2','PS3','PS4']\n",
    "\n",
    "data_q8 = dataset[dataset['Platform'].isin(platform_list)][['Global_Sales','Year_of_Release','Platform']]\n",
    "\n",
    "data_q8['Total_Global_Sales'] = data_q8.groupby(['Platform', 'Year_of_Release']).transform('sum')\n",
    "data_q8 = data_q8.sort_values(by='Total_Global_Sales', ascending=False)\n",
    "data_q8 = data_q8[['Year_of_Release', 'Platform', 'Total_Global_Sales']].drop_duplicates()\n",
    "\n",
    "sns.lineplot(x=\"Year_of_Release\", y=\"Total_Global_Sales\", hue=\"Platform\", data=data_q8)"
   ]
  },
  {
   "cell_type": "markdown",
   "id": "2a824077",
   "metadata": {},
   "source": [
    "From the graph we can see that the PlayStations rise and fall in popularity (based on unit sales) over time. The first PlayStation peaked around 1997, roughly two years after its release. The second PlayStation had a longer peak, around 2002 to 2004. The third PlayStation reached its highest peak much later in its life, peaking first around 2007 as expected, but then rising further to its highest point in 2011. The PS4 peaked as expected 2 years after launch, around 2015. \n",
    "\n",
    "Based on these trends, I would expect to see peak global unit sales for games on PS5 around 2022/2023, two years after launch. However, with the supply chain issues it has faced, that peak may come much later than it has for previous PlayStations."
   ]
  },
  {
   "cell_type": "markdown",
   "id": "5a1d8471",
   "metadata": {},
   "source": [
    "I referred to previous lab work at university and the documentation for pandas to find the methods I needed."
   ]
  }
 ],
 "metadata": {
  "kernelspec": {
   "display_name": "Python 3 (ipykernel)",
   "language": "python",
   "name": "python3"
  },
  "language_info": {
   "codemirror_mode": {
    "name": "ipython",
    "version": 3
   },
   "file_extension": ".py",
   "mimetype": "text/x-python",
   "name": "python",
   "nbconvert_exporter": "python",
   "pygments_lexer": "ipython3",
   "version": "3.8.10"
  }
 },
 "nbformat": 4,
 "nbformat_minor": 5
}
